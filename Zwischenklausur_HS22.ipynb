{
 "cells": [
  {
   "cell_type": "markdown",
   "metadata": {
    "deletable": false
   },
   "source": [
    "# Grundlagen der Programmierung  <br/> Zwischenklausur\n",
    "#### Marcel Lüthi, Andreas Morel-Forster <br/> Departement Mathematik und Informatik, Universität Basel"
   ]
  },
  {
   "cell_type": "markdown",
   "metadata": {
    "deletable": false
   },
   "source": [
    "## Personalien\n",
    "Bitte schreiben Sie in die folgende Zelle Ihren\n",
    "Vornamen,\n",
    "Name,\n",
    "und Ihre Matrikel-Nummer."
   ]
  },
  {
   "cell_type": "markdown",
   "metadata": {},
   "source": [
    "- Vorname: \n",
    "- Name:\n",
    "- Matrikel-Nummer:"
   ]
  },
  {
   "cell_type": "markdown",
   "metadata": {
    "deletable": false
   },
   "source": [
    "##  Regeln\n",
    "- Bitte bleiben Sie bis zum Ablauf der Prüfungszeit sitzen.\n",
    "- Schauen Sie nur auf Ihren eigenen Bildschirm, gerade nach Vorne oder an die Decke.\n",
    "- Bei technischen Problemen, heben Sie die Hand und wir kommen bei Ihnen vorbei.\n",
    "- Ist etwas unklar? Schreiben Sie dies als Java Kommentar (Zeile mit `//` beginnen) in die Zelle für die Lösung."
   ]
  },
  {
   "cell_type": "markdown",
   "metadata": {
    "deletable": false
   },
   "source": [
    "## Übersetzungstool\n",
    "\n",
    "Sie dürfen das Übersetzungstool [DeepL](https://www.deepl.com/translator) verwenden."
   ]
  },
  {
   "cell_type": "markdown",
   "metadata": {
    "deletable": false
   },
   "source": [
    "### Aufgabe 1 - Variablen Typ, deklarieren und initialisieren [2 Punkte]\n",
    "\n",
    "Sie haben für Zahlen die Datentypen `int`, `long`, `float` und `double` kennen gelernt. Sie möchten folgende Werte in Java speichern:\n",
    "- `weight` speichert das Gewicht eines Tieres (56.3 kg).\n",
    "- `legs` speichert die Anzahl Gliedmassen des Tieres (4 Gliedmassen).\n",
    "- `cells`speichert die Anzahl Zellen aus denen das Tier besteht ($10^{10}$ Stück).\n",
    "\n",
    "Speichern Sie die Werte in Variablen mit dem angegebenen Namen und einem möglichst gut passenden Datentyp. Für diese Aufgabe **gilt NICHT** \"*Nehmen Sie entweder `double` oder `int`*\"."
   ]
  },
  {
   "cell_type": "code",
   "execution_count": null,
   "metadata": {
    "deletable": false,
    "exercise_id": 1
   },
   "outputs": [],
   "source": [
    "public class Variables {\n",
    "    public static void main(String[] args) {\n",
    "        // Ihre Lösung kommt hier hin\n",
    "        \n",
    "        //---------------------------\n",
    "        \n",
    "        System.out.println(\"Possible debug output, not graded\");\n",
    "    }\n",
    "}"
   ]
  },
  {
   "cell_type": "code",
   "execution_count": null,
   "metadata": {
    "deletable": false
   },
   "outputs": [],
   "source": [
    "Variables.main(new String[0]);"
   ]
  },
  {
   "cell_type": "markdown",
   "metadata": {
    "deletable": false
   },
   "source": [
    "### Aufgabe 2 - Rechnen mit Java [2 Punkte]\n",
    "Ein Veranstalter eines Konzertes in einer Wüste möchte wissen, wieviel Wasser pro Teilnehmer zur Verfügung steht. Geben Sie die Antwort auf einer eigenen Zeile wie folgt aus:\n",
    "```java\n",
    "Es stehen <ZAHL> Liter pro Person zur Verfügung.\n",
    "```\n",
    "\n",
    "Ändern Sie nichts an den Teilen des Codes, welcher vorgegeben ist."
   ]
  },
  {
   "cell_type": "code",
   "execution_count": null,
   "metadata": {
    "deletable": false,
    "exercise_id": 2
   },
   "outputs": [],
   "source": [
    "public class Celebration {\n",
    "    public static void main(String[] args) {\n",
    "        int waterInLiter = 2222;\n",
    "        int visitors = 2867;\n",
    "        \n",
    "        // Ihre Lösung kommt hier hin\n",
    "        \n",
    "        //---------------------------\n",
    "    }\n",
    "}"
   ]
  },
  {
   "cell_type": "code",
   "execution_count": null,
   "metadata": {
    "deletable": false
   },
   "outputs": [],
   "source": [
    "Celebration.main(new String[0]);"
   ]
  },
  {
   "cell_type": "markdown",
   "metadata": {
    "deletable": false
   },
   "source": [
    "### Aufgabe 3 - Iterieren [5 Punkte]\n",
    "Schreiben Sie eine Methode mit Namen `counter` die Zählt wieviele Zahlen Sie aufsummieren müssen. Dabei gelten die folgenden Regeln:\n",
    "\n",
    "- Der Methode wird eine Zahl `maximum` übergeben.\n",
    "- In einer Schleife sollen von der Zahl 456 beginnend, gerade Zahlen aufsummiert werden.\n",
    "- Die Schleife soll terminieren, wenn die Summe grösser als die übergebene Zahl `maximum` ist.\n",
    "- Die Methode soll zurück geben wieviele Zahlen aufsummiert wurden."
   ]
  },
  {
   "cell_type": "code",
   "execution_count": null,
   "metadata": {
    "deletable": false,
    "exercise_id": 3
   },
   "outputs": [],
   "source": [
    "public class CountElements {\n",
    "    // Ihre Lösung kommt hier hin\n",
    "    \n",
    "    //---------------------------\n",
    "    \n",
    "    public static void main(String[] args) {\n",
    "        System.out.println(counter(12000));\n",
    "    }\n",
    "}"
   ]
  },
  {
   "cell_type": "code",
   "execution_count": null,
   "metadata": {
    "deletable": false
   },
   "outputs": [],
   "source": [
    "CountElements.main(new String[0]);"
   ]
  },
  {
   "cell_type": "markdown",
   "metadata": {
    "deletable": false
   },
   "source": [
    "### Aufgabe 4 - Array erstellen [4 Punkte]\n",
    "\n",
    "Schreiben Sie eine Methode `create` welche für die als Parameter übergebene Länge ein Arrays erstellt und zurück gibt. Dabei soll jedes der Elemente mit dem Wert `-1` initialisiert werden."
   ]
  },
  {
   "cell_type": "code",
   "execution_count": null,
   "metadata": {
    "deletable": false,
    "exercise_id": 4
   },
   "outputs": [],
   "source": [
    "public class ArrayCreator {\n",
    "    // Ihre Lösung kommt hier hin\n",
    "    \n",
    "    //---------------------------\n",
    "    \n",
    "    public static void main(String[] args) {\n",
    "        System.out.println(java.util.Arrays.toString(create(4)));\n",
    "    }\n",
    "}"
   ]
  },
  {
   "cell_type": "code",
   "execution_count": null,
   "metadata": {
    "deletable": false
   },
   "outputs": [],
   "source": [
    "ArrayCreator.main(new String[0]);"
   ]
  },
  {
   "cell_type": "markdown",
   "metadata": {
    "deletable": false
   },
   "source": [
    "### Aufgabe 5 - Schachbrett [3 Punkte]\n",
    "Schreiben Sie eine Methode `print`, welche ein Schachbrett entsprechend der übergebenen Länge ausgibt. Dabei soll für Schwarz `#` ausgegeben werden und für weiss `_`. Oben links soll es immer mit Schwarz beginnen.\n",
    "\n",
    "Beispiel für die Länge `3`\n",
    "```java\n",
    "#_#\n",
    "_#_\n",
    "#_#\n",
    "```"
   ]
  },
  {
   "cell_type": "code",
   "execution_count": null,
   "metadata": {
    "deletable": false,
    "exercise_id": 5
   },
   "outputs": [],
   "source": [
    "public class Chessboard {\n",
    "    // Ihre Lösung kommt hier hin\n",
    "    \n",
    "    //---------------------------\n",
    "    \n",
    "    public static void main(String[] args) {\n",
    "        print(3);\n",
    "    }\n",
    "}"
   ]
  },
  {
   "cell_type": "code",
   "execution_count": null,
   "metadata": {
    "deletable": false
   },
   "outputs": [],
   "source": [
    "Chessboard.main(new String[0]);"
   ]
  },
  {
   "cell_type": "markdown",
   "metadata": {
    "deletable": false
   },
   "source": [
    "### Aufgabe 6 - Rekursive Funktion [4 Punkte]\n",
    "\n",
    "Es sei folgende definition für eine Funktion `f` gegeben:\n",
    "\n",
    "$$f(0) = 0$$\n",
    "$$f(1) = 1$$\n",
    "$$f(n) = f(n-1) + f(n-2);$$\n",
    "\n",
    "Implementieren Sie eine Methode `f`welche für einen beliebigen Wert diese Funktion rekursiv berechnet. Sie dürfen davon ausgehen, dass nur positive ganze Zahlen übergeben werden und dass der Wertebereich von `int` genügt."
   ]
  },
  {
   "cell_type": "code",
   "execution_count": null,
   "metadata": {
    "deletable": false,
    "exercise_id": 6
   },
   "outputs": [],
   "source": [
    "public class Recursive{\n",
    "    // Ihre Lösung kommt hier hin\n",
    "    \n",
    "    //---------------------------\n",
    "    \n",
    "    public static void main(String[] args) {\n",
    "        System.out.println(f(4));\n",
    "    }\n",
    "}"
   ]
  },
  {
   "cell_type": "code",
   "execution_count": null,
   "metadata": {
    "deletable": false
   },
   "outputs": [],
   "source": [
    "Recursive.main(new String[0]);"
   ]
  },
  {
   "cell_type": "markdown",
   "metadata": {
    "deletable": false
   },
   "source": [
    "### Aufgabe 7 - Bedingungen [3 Punkte]\n",
    "\n",
    "Schreiben Sie eine Methode `isInside`, welche als Parameter zwei Gleitkommazahlen `x` und `y` entgegennimmt. Die Methode soll zurück geben, ob die Koordinaten, gebildet aus den Parametern, innerhalb des farbigen Bereichs liegen oder nicht.\n",
    "\n",
    "![form](images/form.png)\n"
   ]
  },
  {
   "cell_type": "code",
   "execution_count": null,
   "metadata": {
    "deletable": false,
    "exercise_id": 7
   },
   "outputs": [],
   "source": [
    "public class Shape {\n",
    "    // Ihre Lösung kommt hier hin\n",
    "    \n",
    "    //---------------------------\n",
    "    \n",
    "    public static void main(String[] args) {\n",
    "        System.out.println(isInside(1.0,1.0));\n",
    "        System.out.println(isInside(4.0,4.0));\n",
    "    }\n",
    "}"
   ]
  },
  {
   "cell_type": "code",
   "execution_count": null,
   "metadata": {
    "deletable": false
   },
   "outputs": [],
   "source": [
    "Shape.main(new String[0]);"
   ]
  },
  {
   "cell_type": "markdown",
   "metadata": {
    "deletable": false
   },
   "source": [
    "### Aufgabe 8 - Suchen [3 Punkte]\n",
    "\n",
    "Schreiben Sie eine Methode `contains` welche in einem übergebenen `int` Array ein Element sucht. Das zu suchende Element wird als zweiter Parameter übergeben. Es soll der Index zurück gegeben werden, wo das Element zum ersten Mal gefunden wurde. Wenn das Element nicht vorkommt, soll -1 zurück gegeben werden.\n",
    "\n",
    "Beispiel: In `{2, 1, 3}` kommt die `3` an der Stelle mit Index `2` vor."
   ]
  },
  {
   "cell_type": "code",
   "execution_count": null,
   "metadata": {
    "deletable": false,
    "exercise_id": 8
   },
   "outputs": [],
   "source": [
    "public class ArrayUtils {\n",
    "    // Ihre Lösung kommt hier hin\n",
    "    \n",
    "    //---------------------------\n",
    "    \n",
    "    public static void main(String[] args) {\n",
    "        int[] a = {1, 2, 3, 4, 5};\n",
    "        System.out.println(contains(a, 3));\n",
    "    }\n",
    "}"
   ]
  },
  {
   "cell_type": "code",
   "execution_count": null,
   "metadata": {
    "deletable": false
   },
   "outputs": [],
   "source": [
    "ArrayUtils.main(new String[0]);"
   ]
  },
  {
   "cell_type": "markdown",
   "metadata": {
    "deletable": false
   },
   "source": [
    "### Zeitvertrieb - NICHT BEWERTET - für schnelle Studierende\n",
    "\n",
    "Simulieren Sie zwei Münzen.\n",
    "Werfen Sie die Münzen so lange, bis eine Münze drei mal nacheinander Kopf ergibt.\n",
    "Geben Sie für jede Runde die Anzahl bisheriger Würfe aus, sowie ob die Münzen Kopf oder Zahl zeigen.\n",
    "Geben Sie am Ende aus welche Münze gewonnen hat.\n",
    "\n",
    "Eine mögliche Ausgabe könnte folgende sein:\n",
    "```java\n",
    "0: Kopf Zahl\n",
    "1: Zahl Kopf\n",
    "2: Kopf Kopf\n",
    "3: Kopf Zahl\n",
    "4: Kopf Zahl\n",
    "Münze 1 hat gewonnen!\n",
    "```\n",
    "\n",
    "Versuchen Sie das Programm zu strukturieren indem Sie nicht zu lange Methoden schreiben. \n",
    "\n",
    "Hinweis: Eine Zahl grösser gleich 0.0 und kleiner 1.0 kann mit `Math.random()` generiert werden."
   ]
  },
  {
   "cell_type": "code",
   "execution_count": null,
   "metadata": {
    "deletable": false
   },
   "outputs": [],
   "source": [
    "public class CoinRace {\n",
    "    // Ihre Lösung kommt hier hin\n",
    "    \n",
    "    //---------------------------\n",
    "    \n",
    "    public static void main(String[] args) {\n",
    "        play();\n",
    "    }\n",
    "}"
   ]
  },
  {
   "cell_type": "code",
   "execution_count": null,
   "metadata": {
    "deletable": false
   },
   "outputs": [],
   "source": [
    "CoinRace.main(new String[0]);"
   ]
  }
 ],
 "metadata": {
  "celltoolbar": "Edit Metadata",
  "exercise_series": "gdp",
  "kernelspec": {
   "display_name": "Java",
   "language": "java",
   "name": "java"
  },
  "language_info": {
   "codemirror_mode": "java",
   "file_extension": ".jshell",
   "mimetype": "text/x-java-source",
   "name": "Java",
   "pygments_lexer": "java",
   "version": "17.0.4+8-jvmci-22.2-b06"
  },
  "notebook_id": 120,
  "toc": {
   "base_numbering": 1,
   "nav_menu": {},
   "number_sections": false,
   "sideBar": false,
   "skip_h1_title": false,
   "title_cell": "Table of Contents",
   "title_sidebar": "Contents",
   "toc_cell": false,
   "toc_position": {},
   "toc_section_display": false,
   "toc_window_display": false
  }
 },
 "nbformat": 4,
 "nbformat_minor": 4
}
